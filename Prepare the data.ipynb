{
 "cells": [
  {
   "cell_type": "code",
   "execution_count": 4,
   "metadata": {},
   "outputs": [],
   "source": [
    "import util\n",
    "\n",
    "import matplotlib.pyplot as plt\n",
    "from mpl_toolkits.mplot3d import Axes3D\n",
    "import numpy as np\n",
    "import scipy.ndimage\n",
    "import scipy.stats\n",
    "\n",
    "%matplotlib qt"
   ]
  },
  {
   "cell_type": "code",
   "execution_count": 5,
   "metadata": {},
   "outputs": [],
   "source": [
    "data = np.load('C:/Users/haoyu/Desktop/SLAC/alignment/complete.npy')\n",
    "data[data<1e-6] = 0"
   ]
  },
  {
   "cell_type": "markdown",
   "metadata": {},
   "source": [
    "# Cut out the small region where there are some data"
   ]
  },
  {
   "cell_type": "code",
   "execution_count": 6,
   "metadata": {},
   "outputs": [],
   "source": [
    "left = 13\n",
    "right = 14\n",
    "\n",
    "data_copy = data[63-left:63+right, 63-left:63+right,  63-left:63+right]\n",
    "\n",
    "fig, axes  =plt.subplots(ncols=3, nrows=1)\n",
    "\n",
    "axes[0].imshow(np.sum(data_copy, axis=0), vmax=0.01, cmap='jet')\n",
    "axes[1].imshow(np.sum(data_copy, axis=1), vmax=0.01, cmap='jet')\n",
    "axes[2].imshow(np.sum(data_copy, axis=2), vmax=0.01, cmap='jet')\n",
    "\n",
    "plt.show()"
   ]
  },
  {
   "cell_type": "code",
   "execution_count": 7,
   "metadata": {},
   "outputs": [
    {
     "name": "stdout",
     "output_type": "stream",
     "text": [
      "(27, 27, 27)\n"
     ]
    }
   ],
   "source": [
    "print(data_copy.shape)"
   ]
  },
  {
   "cell_type": "code",
   "execution_count": 22,
   "metadata": {},
   "outputs": [
    {
     "name": "stdout",
     "output_type": "stream",
     "text": [
      "[13.88427979 13.95767285 14.20344657]\n"
     ]
    }
   ],
   "source": [
    "# Move to the mass center\n",
    "center = util.get_mass_center(data_copy)\n",
    "print(center)"
   ]
  },
  {
   "cell_type": "code",
   "execution_count": 15,
   "metadata": {},
   "outputs": [],
   "source": [
    "fig, axes  =plt.subplots(ncols=3, nrows=1)\n",
    "\n",
    "axes[0].imshow(np.sum(data_shifted, axis=0), vmax=0.01, cmap='jet')\n",
    "axes[1].imshow(np.sum(data_shifted, axis=1), vmax=0.01, cmap='jet')\n",
    "axes[2].imshow(np.sum(data_shifted, axis=2), vmax=0.01, cmap='jet')\n",
    "\n",
    "plt.show()"
   ]
  },
  {
   "cell_type": "code",
   "execution_count": 29,
   "metadata": {},
   "outputs": [],
   "source": [
    "# Calculate the affine map to use scipy.ndimage.affine_transform\n",
    "rotation_matrix = scipy.stats.special_ortho_group.rvs(3)\n",
    "offset = center - rotation_matrix.dot(center)\n",
    "\n",
    "# Rotate the sample space\n",
    "rotated = scipy.ndimage.affine_transform(input=data_copy,\n",
    "                               matrix=rotation_matrix,\n",
    "                               offset=offset,\n",
    "                               output_shape=(27, 27, 27),\n",
    "                               output=None,\n",
    "                               order=1,\n",
    "                               mode='constant', cval=0.0, prefilter=True)"
   ]
  },
  {
   "cell_type": "code",
   "execution_count": 30,
   "metadata": {},
   "outputs": [],
   "source": [
    "fig, axes  =plt.subplots(ncols=3, nrows=1)\n",
    "\n",
    "axes[0].imshow(np.sum(rotated, axis=0), vmax=0.01, cmap='jet')\n",
    "axes[1].imshow(np.sum(rotated, axis=1), vmax=0.01, cmap='jet')\n",
    "axes[2].imshow(np.sum(rotated, axis=2), vmax=0.01, cmap='jet')\n",
    "\n",
    "plt.show()"
   ]
  },
  {
   "cell_type": "code",
   "execution_count": null,
   "metadata": {},
   "outputs": [],
   "source": []
  }
 ],
 "metadata": {
  "kernelspec": {
   "display_name": "Python 3",
   "language": "python",
   "name": "python3"
  },
  "language_info": {
   "codemirror_mode": {
    "name": "ipython",
    "version": 3
   },
   "file_extension": ".py",
   "mimetype": "text/x-python",
   "name": "python",
   "nbconvert_exporter": "python",
   "pygments_lexer": "ipython3",
   "version": "3.6.6"
  }
 },
 "nbformat": 4,
 "nbformat_minor": 1
}
